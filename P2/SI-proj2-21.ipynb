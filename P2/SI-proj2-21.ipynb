{
 "cells": [
  {
   "cell_type": "markdown",
   "id": "bf9c87b1",
   "metadata": {},
   "source": [
    "# Sistemas Inteligentes 2021/2022\n",
    "\n",
    "## Mini-projeto 2: Quadrados Latinos\n"
   ]
  },
  {
   "cell_type": "markdown",
   "id": "df10acb0",
   "metadata": {},
   "source": [
    "## Representação de variáveis, domínios, vizinhos e restrições\n",
    "\n",
    "Descreva aqui, textualmente, como decidiu representar as variáveis, domínios, vizinhos e restrições em Python;"
   ]
  },
  {
   "cell_type": "markdown",
   "id": "4ab69211",
   "metadata": {},
   "source": [
    "## Formulação do problema"
   ]
  },
  {
   "cell_type": "code",
   "execution_count": 1,
   "id": "c5327f4f",
   "metadata": {},
   "outputs": [],
   "source": [
    "from csp import *\n",
    "from typing import Dict\n",
    "\n",
    "def diff_lin_col(vizinhos: defaultdict[str, list], X: str, a: int, Y: str, b: int):  # X Y -> Vars ; a b-> Doms #\n",
    "    return True if Y not in vizinhos[X] else a != b\n",
    "        \n",
    "def quadrado_latino(n: int = 3, quadrados_preenchidos: Dict[str, int] = None) -> CSP:\n",
    "    \"\"\"\n",
    "    Pode receber parametros ou não.\n",
    "    Deve devolver um CSP, à semelhança dos guiões das aulas PL.\n",
    "    Comente o código.\n",
    "    \"\"\"\n",
    "    # 0>1 2 .\n",
    "    # 3 4 5 .\n",
    "    # ^   v .\n",
    "    # 6<7 8 .\n",
    "    # . . .\n",
    "    variaveis = [str(x) for x in range(n*n)]  # [0,...,8] Indices\n",
    "\n",
    "    # O domínio são os valores [1, ..., n] para cada variável.\n",
    "    dom = [x for x in range(1, n+1)]  # [1,...,9] Valores\n",
    "\n",
    "    dominios = {}\n",
    "    for v in variaveis:\n",
    "        dominios[v] = dom  # A colocar na lista os valores\n",
    "        # TODO copiar lista?\n",
    "    if quadrados_preenchidos:\n",
    "        for (k, v) in quadrados_preenchidos.items():\n",
    "            dominios[k] = [v]  # {Indice: val,Indice: val}\n",
    "            # ex: {4: [3]} -> dominios[4] = [3]\n",
    "\n",
    "    # Os vizinhos são os índices da mesma linha e da mesma coluna que a variável\n",
    "    vizinhos = {v: [] for v in variaveis}  # {1: [], ..., 9: []}\n",
    "\n",
    "    # Para cada coluna\n",
    "    for col in range(n):\n",
    "        # Para cada linha\n",
    "        for lin in range(col, n*n, n):\n",
    "            # Linhas\n",
    "            vizinhos[str(lin)].extend([lin+x for x in range(1, n-col)])\n",
    "            # Colunas\n",
    "            vizinhos[str(lin)].extend([x for x in range(lin+n, n*n, n)])\n",
    "\n",
    "    # Traduzir de dicionário para o formato do parse_neighbors\n",
    "    vizinhos = '; '.join(\n",
    "        map(lambda k: f'{k}: {\" \".join(map(str, vizinhos[k]))}', vizinhos))\n",
    "    vizinhos = parse_neighbors(vizinhos)\n",
    "\n",
    "    def restricoes(X, a, Y, b):\n",
    "        return diff_lin_col(vizinhos, X, a, Y, b)\n",
    "    return CSP(variaveis, dominios, vizinhos, restricoes)"
   ]
  },
  {
   "cell_type": "markdown",
   "metadata": {},
   "source": []
  },
  {
   "cell_type": "markdown",
   "metadata": {},
   "source": [
    "## Visualização do problema"
   ]
  },
  {
   "cell_type": "code",
   "execution_count": 2,
   "metadata": {},
   "outputs": [],
   "source": [
    "# Implemente uma função que permita visualizar o quadrado latino, antes e depois de resolvido.\n",
    "from typing import Dict\n",
    "from math import sqrt\n",
    "\n",
    "\n",
    "def visualize(vs: Dict[str, int]):\n",
    "    n = sqrt(len(vs))\n",
    "    to_list = sorted(vs.items(), key=lambda x: int(x[0]))\n",
    "    \n",
    "    for i, (_, v) in enumerate(to_list):\n",
    "        print(v, end=' ')\n",
    "        if (i+1) % n == 0:\n",
    "            print('')\n"
   ]
  },
  {
   "cell_type": "markdown",
   "id": "f46b1688",
   "metadata": {},
   "source": [
    "## Criação do problema do quadrado latino simples\n",
    "\n",
    "Mostrem que o código está a funcionar, construindo um problema de quadrado latino *4x4*, imprimindo as variáveis, domínios iniciais, e vizinhos. Adicione os comentários necessários. Mostre como podemos criar um puzzle com quadrados já preenchidos, e qual o impacto que isso tem nas variáveis, domínios iniciais, e vizinhos."
   ]
  },
  {
   "cell_type": "code",
   "execution_count": 3,
   "id": "0b95b771",
   "metadata": {},
   "outputs": [
    {
     "name": "stdout",
     "output_type": "stream",
     "text": [
      "Variáveis ['0', '1', '2', '3', '4', '5', '6', '7', '8', '9', '10', '11', '12', '13', '14', '15']\n",
      "Domínios Iniciais {'0': [1, 2, 3, 4], '1': [1, 2, 3, 4], '2': [1, 2, 3, 4], '3': [1, 2, 3, 4], '4': [1, 2, 3, 4], '5': [1, 2, 3, 4], '6': [1, 2, 3, 4], '7': [1, 2, 3, 4], '8': [1, 2, 3, 4], '9': [1, 2, 3, 4], '10': [1, 2, 3, 4], '11': [1, 2, 3, 4], '12': [1, 2, 3, 4], '13': [1, 2, 3, 4], '14': [1, 2, 3, 4], '15': [1, 2, 3, 4]}\n",
      "Vizinhos defaultdict(<class 'list'>, {'0': ['1', '2', '3', '4', '8', '12'], '1': ['0', '2', '3', '5', '9', '13'], '2': ['0', '1', '3', '6', '10', '14'], '3': ['0', '1', '2', '7', '11', '15'], '4': ['0', '5', '6', '7', '8', '12'], '8': ['0', '4', '9', '10', '11', '12'], '12': ['0', '4', '8', '13', '14', '15'], '5': ['1', '4', '6', '7', '9', '13'], '9': ['1', '5', '8', '10', '11', '13'], '13': ['1', '5', '9', '12', '14', '15'], '6': ['2', '4', '5', '7', '10', '14'], '10': ['2', '6', '8', '9', '11', '14'], '14': ['2', '6', '10', '12', '13', '15'], '7': ['3', '4', '5', '6', '11', '15'], '11': ['3', '7', '8', '9', '10', '15'], '15': ['3', '7', '11', '12', '13', '14']})\n"
     ]
    }
   ],
   "source": [
    "# código\n",
    "#   0   1   2   3\n",
    "#   4   5   6   7\n",
    "#   8   9   10  11\n",
    "#   12  13  14  15\n",
    "p = quadrado_latino(4)\n",
    "\n",
    "print('Variáveis', p.variables)\n",
    "print('Domínios Iniciais', p.domains)\n",
    "print('Vizinhos', p.neighbors)\n"
   ]
  },
  {
   "cell_type": "markdown",
   "metadata": {},
   "source": [
    "Para criar um puzzle com quadrados já preenchidos o utilizador deve preencher os dois argumentos de quadrado_latino() sendo que o 2º será um dicionário cujas chaves respresentam os indices e os valores o dominio a ser definido. Este parametro é opcional."
   ]
  },
  {
   "cell_type": "code",
   "execution_count": 4,
   "metadata": {},
   "outputs": [
    {
     "name": "stdout",
     "output_type": "stream",
     "text": [
      "Variáveis ['0', '1', '2', '3', '4', '5', '6', '7', '8', '9', '10', '11', '12', '13', '14', '15']\n",
      "Domínios Iniciais {'0': [1, 2, 3, 4], '1': [1, 2, 3, 4], '2': [1, 2, 3, 4], '3': [1, 2, 3, 4], '4': [1, 2, 3, 4], '5': [1, 2, 3, 4], '6': [3], '7': [1, 2, 3, 4], '8': [1, 2, 3, 4], '9': [2], '10': [1, 2, 3, 4], '11': [1, 2, 3, 4], '12': [1, 2, 3, 4], '13': [1, 2, 3, 4], '14': [1, 2, 3, 4], '15': [1, 2, 3, 4]}\n",
      "Vizinhos defaultdict(<class 'list'>, {'0': ['1', '2', '3', '4', '8', '12'], '1': ['0', '2', '3', '5', '9', '13'], '2': ['0', '1', '3', '6', '10', '14'], '3': ['0', '1', '2', '7', '11', '15'], '4': ['0', '5', '6', '7', '8', '12'], '8': ['0', '4', '9', '10', '11', '12'], '12': ['0', '4', '8', '13', '14', '15'], '5': ['1', '4', '6', '7', '9', '13'], '9': ['1', '5', '8', '10', '11', '13'], '13': ['1', '5', '9', '12', '14', '15'], '6': ['2', '4', '5', '7', '10', '14'], '10': ['2', '6', '8', '9', '11', '14'], '14': ['2', '6', '10', '12', '13', '15'], '7': ['3', '4', '5', '6', '11', '15'], '11': ['3', '7', '8', '9', '10', '15'], '15': ['3', '7', '11', '12', '13', '14']})\n"
     ]
    }
   ],
   "source": [
    "# Quadrados já preenchidos\n",
    "preenchidos = {'6': 3, '9': 2}\n",
    "p = quadrado_latino(4, preenchidos)\n",
    "\n",
    "print('Variáveis', p.variables)\n",
    "print('Domínios Iniciais', p.domains)\n",
    "print('Vizinhos', p.neighbors)\n"
   ]
  },
  {
   "cell_type": "markdown",
   "metadata": {},
   "source": [
    "Resolva o problema com o backtracking sem inferencia, com inferencia, e com uma heurística."
   ]
  },
  {
   "cell_type": "code",
   "execution_count": 5,
   "metadata": {},
   "outputs": [
    {
     "name": "stdout",
     "output_type": "stream",
     "text": [
      "Procura com backtracking sem inferência\n",
      "1 2 3 4 \n",
      "2 1 4 3 \n",
      "3 4 1 2 \n",
      "4 3 2 1 \n",
      "----------------------------------------------------------------------------------------------------\n",
      "Procura com backtracking com inferência\n",
      "1 2 3 4 \n",
      "2 1 4 3 \n",
      "3 4 1 2 \n",
      "4 3 2 1 \n",
      "----------------------------------------------------------------------------------------------------\n",
      "Procura com backtracking com uma heurísitca\n",
      "1 2 3 4 \n",
      "2 1 4 3 \n",
      "3 4 1 2 \n",
      "4 3 2 1 \n"
     ]
    }
   ],
   "source": [
    "# código\n",
    "p = quadrado_latino(4)\n",
    "print('Procura com backtracking sem inferência')\n",
    "r1 = backtracking_search(p)\n",
    "visualize(r1)\n",
    "print('-'*100)\n",
    "\n",
    "p = quadrado_latino(4)\n",
    "print('Procura com backtracking com inferência')\n",
    "r2 = AC3(p)\n",
    "r2 = backtracking_search(r2)\n",
    "visualize(r2)\n",
    "print('-'*100)\n",
    "\n",
    "p = quadrado_latino(4)\n",
    "print('Procura com backtracking com uma heurísitca')\n",
    "r3 = backtracking_search(p, inference=forward_checking)\n",
    "visualize(r3)\n"
   ]
  },
  {
   "cell_type": "markdown",
   "metadata": {},
   "source": [
    "## Visualização do problema"
   ]
  },
  {
   "cell_type": "code",
   "execution_count": 21,
   "metadata": {},
   "outputs": [],
   "source": [
    "# Implemente uma função que permita visualizar o puzzle Futoshiki, antes e depois de resolvido. Compare com a solução obtida pelo seu algoritmo.\n",
    "# No caso de não implementar esta função, inclua um screenshot do problema e da sua solução.\n",
    "# Implemente uma função que permita visualizar o quadrado latino, antes e depois de resolvido.\n",
    "from typing import Dict\n",
    "from math import sqrt\n",
    "\n",
    "def visualize_futoshiki(vs: Dict[str, int], maiores: Dict[str, str]):\n",
    "    def get_x_y(n: int, var: int):\n",
    "        return var % n, var // n\n",
    "\n",
    "    n = int(sqrt(len(vs)))\n",
    "    to_list = sorted(vs.items(), key=lambda x: int(x[0]))\n",
    "\n",
    "    to_write = [[''] * n for _ in range((n*2) - 1)]\n",
    "    for i, (var, v) in enumerate(to_list):\n",
    "        var_int = int(var)\n",
    "        x, y = get_x_y(n, var_int)\n",
    "\n",
    "        char_to_write = str(v)\n",
    "\n",
    "        maiores_que = maiores.get(var, None)\n",
    "        if maiores_que is not None:\n",
    "            for maior in maiores_que:\n",
    "                xM, yM = get_x_y(n, int(maior))\n",
    "\n",
    "                if y == yM:\n",
    "                    # Sinal horizontal\n",
    "                    if xM > x:\n",
    "                        char_to_write += ' >'\n",
    "                    elif xM < x:\n",
    "                        char_to_write = f'< {char_to_write}'\n",
    "                elif yM > y:\n",
    "                    # Sinal vertical\n",
    "                    to_write[y * 2 + 1][x] = 'v'\n",
    "                else:\n",
    "                    to_write[y * 2 - 1][x] = '^'\n",
    "\n",
    "\n",
    "        to_write[y * 2][x] = char_to_write\n",
    "\n",
    "    print('\\n'.join(['\\t'.join([str(cell) for cell in row]) for row in to_write]))"
   ]
  },
  {
   "cell_type": "markdown",
   "id": "14a095c8",
   "metadata": {},
   "source": [
    "## Criação do problema Futoshiki *5x5*\n",
    "\n",
    "Mostrem que o código está a funcionar, construindo um problema de Futoshiki *5x5*, imprimindo as variáveis, domínios iniciais, e vizinhos. Adicione os comentários necessários. Utilize o [link](https://www.futoshiki.org/) para gerar puzzles e validar a implementação."
   ]
  },
  {
   "cell_type": "code",
   "execution_count": 10,
   "id": "06577d27",
   "metadata": {},
   "outputs": [],
   "source": [
    "# código de aplicação dos algoritmos\n",
    "from csp import *\n",
    "from typing import Dict, List\n",
    "        \n",
    "def futoshiki(n: int = 3, quadrados_preenchidos: Dict[str, int] = None, maiores: Dict[str, List[str]] = None) -> CSP:\n",
    "    \"\"\"\n",
    "    Pode receber parametros ou não.\n",
    "    Deve devolver um CSP, à semelhança dos guiões das aulas PL.\n",
    "    Comente o código.\n",
    "    \"\"\"\n",
    "    # 0 1 2 .\n",
    "    # 3 4 5 .\n",
    "    # 6 7 8 .\n",
    "    # . . .\n",
    "    # As variáveis são os índices do quadrado latino.\n",
    "    variaveis = [str(x) for x in range(n*n)]  # [0,...,8] Indices\n",
    "\n",
    "    # O domínio são os valores [1, ..., n] para cada variável.\n",
    "    dom = [x for x in range(1, n+1)]  # [1,...,9] Valores\n",
    "\n",
    "    dominios = {}\n",
    "    for v in variaveis:\n",
    "        dominios[v] = dom  # A colocar na lista os valores\n",
    "        # TODO copiar lista?\n",
    "    if quadrados_preenchidos:\n",
    "        for (k, v) in quadrados_preenchidos.items():\n",
    "            dominios[k] = [v]  # {Indice: val,Indice: val}\n",
    "            # ex: {4: [3]} -> dominios[4] = [3]\n",
    "\n",
    "    # Os vizinhos são os índices da mesma linha e da mesma coluna que a variável\n",
    "    vizinhos = {v: [] for v in variaveis}  # {1: [], ..., 9: []}\n",
    "\n",
    "    # Para cada coluna\n",
    "    for col in range(n):\n",
    "        # Para cada linha\n",
    "        for lin in range(col, n*n, n):\n",
    "            # Linhas\n",
    "            vizinhos[str(lin)].extend([lin+x for x in range(1, n-col)])\n",
    "            # Colunas\n",
    "            vizinhos[str(lin)].extend([x for x in range(lin+n, n*n, n)])\n",
    "\n",
    "    # Traduzir de dicionário para o formato do parse_neighbors\n",
    "    vizinhos = '; '.join(\n",
    "        map(lambda k: f'{k}: {\" \".join(map(str, vizinhos[k]))}', vizinhos))\n",
    "    vizinhos = parse_neighbors(vizinhos)\n",
    "\n",
    "    def restricoes(X: str, a: int, Y: str, b: int):\n",
    "        if X in maiores:\n",
    "            if Y in maiores[X] and a <= b:\n",
    "                return False\n",
    "        elif Y in maiores:\n",
    "            if X in maiores[Y] and b <= a:\n",
    "                return False\n",
    "\n",
    "        return diff_lin_col(vizinhos, X, a, Y, b)\n",
    "\n",
    "    return CSP(variaveis, dominios, vizinhos, restricoes)\n"
   ]
  },
  {
   "cell_type": "markdown",
   "metadata": {},
   "source": [
    "Resolva o problema com o backtracking sem inferencia, com inferencia, e com uma heurística. Até que dimensão consegue resolver o problema em menos de 1 minuto?"
   ]
  },
  {
   "cell_type": "code",
   "execution_count": 26,
   "metadata": {},
   "outputs": [
    {
     "name": "stdout",
     "output_type": "stream",
     "text": [
      "2 >\t1\t3\t< 5\t4\n",
      "\t\t\t\t\n",
      "1\t4\t< 5 >\t2\t3\n",
      "^\tv\t\t\t\n",
      "5 >\t2\t< 4 >\t3\t1\n",
      "v\t\t\t\t\n",
      "4\t3\t2 >\t1\t< 5\n",
      "\t^\t\t^\t\n",
      "3\t5\t1\t4\t2\n"
     ]
    }
   ],
   "source": [
    "# código \n",
    "maiores = {'0': ['1'], '3': ['2'], '6': ['11'], '7': ['6', '8'], '10': ['5', '11', '15'], '12': ['11', '13'], '17': ['18'], '19': ['18'], '21': ['16'], '23': ['18']}\n",
    "\n",
    "p = futoshiki(5, maiores=maiores)\n",
    "r = backtracking_search(p)\n",
    "visualize_futoshiki(r, maiores)"
   ]
  }
 ],
 "metadata": {
  "interpreter": {
   "hash": "e7370f93d1d0cde622a1f8e1c04877d8463912d04d973331ad4851f04de6915a"
  },
  "kernelspec": {
   "display_name": "Python 3.10.4 64-bit",
   "language": "python",
   "name": "python3"
  },
  "language_info": {
   "codemirror_mode": {
    "name": "ipython",
    "version": 3
   },
   "file_extension": ".py",
   "mimetype": "text/x-python",
   "name": "python",
   "nbconvert_exporter": "python",
   "pygments_lexer": "ipython3",
   "version": "3.10.4"
  },
  "orig_nbformat": 4
 },
 "nbformat": 4,
 "nbformat_minor": 2
}
