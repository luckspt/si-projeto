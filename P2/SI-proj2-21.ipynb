{
 "cells": [
  {
   "cell_type": "code",
   "execution_count": null,
   "metadata": {},
   "outputs": [],
   "source": []
  },
  {
   "cell_type": "markdown",
   "metadata": {},
   "source": []
  },
  {
   "cell_type": "markdown",
   "id": "bf9c87b1",
   "metadata": {},
   "source": [
    "# Sistemas Inteligentes 2021/2022\n",
    "\n",
    "## Mini-projeto 2: Quadrados Latinos\n"
   ]
  },
  {
   "cell_type": "markdown",
   "id": "d7b8efca",
   "metadata": {},
   "source": [
    "## Grupo: 21\n",
    "\n",
    "### Elementos do Grupo\n",
    "\n",
    "Número: 56926    Nome: Lucas Pinto   \n",
    "Número: 56895    Nome: Matilde Silva    \n",
    "Número: 56941    Nome: Bruno Gonzalez     \n",
    "\n",
    "(Nota: Neste relatório pode adicionar as células de texto e código que achar necessárias.)"
   ]
  },
  {
   "cell_type": "markdown",
   "id": "df10acb0",
   "metadata": {},
   "source": [
    "## Representação de variáveis, domínios, vizinhos e restrições\n",
    "\n",
    "Descreva aqui, textualmente, como decidiu representar as variáveis, domínios, vizinhos e restrições em Python;"
   ]
  },
  {
   "cell_type": "markdown",
   "id": "4ab69211",
   "metadata": {},
   "source": [
    "## Formulação do problema"
   ]
  },
  {
   "cell_type": "code",
   "execution_count": 97,
   "id": "c5327f4f",
   "metadata": {},
   "outputs": [],
   "source": [
    "from csp import *\n",
    "from typing import Dict\n",
    "\n",
    "def diff_lin_col(n: int, X: str, a: int, Y: str, b: int):  # X Y -> Vars ; a b-> Doms #\n",
    "    # Ver se X e Y estão na mesma linha\n",
    "    X = int(X)\n",
    "    Y = int(Y)\n",
    "\n",
    "    linhaX = X//n\n",
    "    linhaY = Y//n\n",
    "    # Ver se X e Y estão na mesma coluna\n",
    "    colunaX = X % n\n",
    "    colunaY = Y % n\n",
    "\n",
    "    if linhaX == linhaY or colunaX == colunaY:\n",
    "        return a != b\n",
    "    else:\n",
    "        return True\n",
    "        \n",
    "def quadrado_latino(n: int = 3, quadrados_preenchidos: Dict[str, int] = None) -> CSP:\n",
    "    \"\"\"\n",
    "    Pode receber parametros ou não.\n",
    "    Deve devolver um CSP, à semelhança dos guiões das aulas PL.\n",
    "    Comente o código.\n",
    "    \"\"\"\n",
    "    # 0 1 2 .\n",
    "    # 3 4 5 .\n",
    "    # 6 7 8 .\n",
    "    # . . .\n",
    "    # As variáveis são os índices do quadrado latino.\n",
    "    variaveis = [str(x) for x in range(n*n)]  # [0,...,8] Indices\n",
    "\n",
    "    # O domínio são os valores [1, ..., n] para cada variável.\n",
    "    dom = [x for x in range(1, n+1)]  # [1,...,9] Valores\n",
    "\n",
    "    dominios = {}\n",
    "    for v in variaveis:\n",
    "        dominios[v] = dom  # A colocar na lista os valores\n",
    "        # TODO copiar lista?\n",
    "    if quadrados_preenchidos:\n",
    "        for (k, v) in quadrados_preenchidos:\n",
    "            dominios[k] = [v]  # {Indice: val,Indice: val}\n",
    "            # ex: {4: [3]} -> dominios[4] = [3]\n",
    "\n",
    "    # Os vizinhos são os índices da mesma linha e da mesma coluna que a variável\n",
    "    vizinhos = {v: [] for v in variaveis}  # {1: [], ..., 9: []}\n",
    "\n",
    "    # Para cada coluna\n",
    "    for col in range(n):\n",
    "        # Para cada linha\n",
    "        for lin in range(col, n*n, n):\n",
    "            # Linhas\n",
    "            vizinhos[str(lin)].extend([lin+x for x in range(1, n-col)])\n",
    "            # Colunas\n",
    "            vizinhos[str(lin)].extend([x for x in range(lin+n, n*n, n)])\n",
    "\n",
    "    # Traduzir de dicionário para o formato do parse_neighbors\n",
    "    vizinhos = '; '.join(\n",
    "        map(lambda k: f'{k}: {\" \".join(map(str, vizinhos[k]))}', vizinhos))\n",
    "    vizinhos = parse_neighbors(vizinhos)\n",
    "\n",
    "    def restricoes(X, a, Y, b):\n",
    "        return diff_lin_col(n, X, a, Y, b)\n",
    "    return CSP(variaveis, dominios, vizinhos, restricoes)\n"
   ]
  },
  {
   "cell_type": "markdown",
   "metadata": {},
   "source": []
  },
  {
   "cell_type": "markdown",
   "metadata": {},
   "source": [
    "## Visualização do problema"
   ]
  },
  {
   "cell_type": "code",
   "execution_count": 98,
   "metadata": {},
   "outputs": [],
   "source": [
    "# Implemente uma função que permita visualizar o quadrado latino, antes e depois de resolvido.\n",
    "from typing import Dict\n",
    "from math import sqrt\n",
    "\n",
    "\n",
    "def visualize(vs: Dict[str, int]):\n",
    "    n = sqrt(len(vs))\n",
    "    to_list = sorted(vs.items(), key=lambda x: x[0])\n",
    "    \n",
    "    for i, (_, v) in enumerate(to_list):\n",
    "        print(v, end=' ')\n",
    "        if (i+1) % n == 0:\n",
    "            print('')\n"
   ]
  },
  {
   "cell_type": "markdown",
   "id": "f46b1688",
   "metadata": {},
   "source": [
    "## Criação do problema do quadrado latino simples\n",
    "\n",
    "Mostrem que o código está a funcionar, construindo um problema de quadrado latino *4x4*, imprimindo as variáveis, domínios iniciais, e vizinhos. Adicione os comentários necessários. Mostre como podemos criar um puzzle com quadrados já preenchidos, e qual o impacto que isso tem nas variáveis, domínios iniciais, e vizinhos."
   ]
  },
  {
   "cell_type": "code",
   "execution_count": 84,
   "id": "0b95b771",
   "metadata": {},
   "outputs": [
    {
     "name": "stdout",
     "output_type": "stream",
     "text": [
      "Variáveis ['0', '1', '2', '3', '4', '5', '6', '7', '8', '9', '10', '11', '12', '13', '14', '15']\n",
      "Domínios Iniciais {'0': [1, 2, 3, 4], '1': [1, 2, 3, 4], '2': [1, 2, 3, 4], '3': [1, 2, 3, 4], '4': [1, 2, 3, 4], '5': [1, 2, 3, 4], '6': [1, 2, 3, 4], '7': [1, 2, 3, 4], '8': [1, 2, 3, 4], '9': [1, 2, 3, 4], '10': [1, 2, 3, 4], '11': [1, 2, 3, 4], '12': [1, 2, 3, 4], '13': [1, 2, 3, 4], '14': [1, 2, 3, 4], '15': [1, 2, 3, 4]}\n",
      "Vizinhos defaultdict(<class 'list'>, {'0': ['1', '2', '3', '4', '8', '12'], '1': ['0', '2', '3', '5', '9', '13'], '2': ['0', '1', '3', '6', '10', '14'], '3': ['0', '1', '2', '7', '11', '15'], '4': ['0', '5', '6', '7', '8', '12'], '8': ['0', '4', '9', '10', '11', '12'], '12': ['0', '4', '8', '13', '14', '15'], '5': ['1', '4', '6', '7', '9', '13'], '9': ['1', '5', '8', '10', '11', '13'], '13': ['1', '5', '9', '12', '14', '15'], '6': ['2', '4', '5', '7', '10', '14'], '10': ['2', '6', '8', '9', '11', '14'], '14': ['2', '6', '10', '12', '13', '15'], '7': ['3', '4', '5', '6', '11', '15'], '11': ['3', '7', '8', '9', '10', '15'], '15': ['3', '7', '11', '12', '13', '14']})\n"
     ]
    }
   ],
   "source": [
    "# código\n",
    "#   0   1   2   3\n",
    "#   4   5   6   7\n",
    "#   8   9   10  11\n",
    "#   12  13  14  15\n",
    "p = quadrado_latino(4)\n",
    "\n",
    "print('Variáveis', p.variables)\n",
    "print('Domínios Iniciais', p.domains)\n",
    "print('Vizinhos', p.neighbors)\n"
   ]
  },
  {
   "cell_type": "markdown",
   "metadata": {},
   "source": [
    "Para criar um puzzle com quadrados já preenchidos o utilizador deve preencher os dois argumentos de quadrado_latino() sendo que o 2º será um dicionário cujas chaves respresentam os indices e os valores o dominio a ser definido. Este parametro é opcional."
   ]
  },
  {
   "cell_type": "code",
   "execution_count": 89,
   "metadata": {},
   "outputs": [
    {
     "name": "stdout",
     "output_type": "stream",
     "text": [
      "Variáveis ['0', '1', '2', '3', '4', '5', '6', '7', '8', '9', '10', '11', '12', '13', '14', '15']\n",
      "Domínios Iniciais {'0': [1, 2, 3, 4], '1': [1, 2, 3, 4], '2': [1, 2, 3, 4], '3': [1, 2, 3, 4], '4': [1, 2, 3, 4], '5': [1, 2, 3, 4], '6': [3], '7': [1, 2, 3, 4], '8': [1, 2, 3, 4], '9': [2], '10': [1, 2, 3, 4], '11': [1, 2, 3, 4], '12': [1, 2, 3, 4], '13': [1, 2, 3, 4], '14': [1, 2, 3, 4], '15': [1, 2, 3, 4]}\n",
      "Vizinhos defaultdict(<class 'list'>, {'0': ['1', '2', '3', '4', '8', '12'], '1': ['0', '2', '3', '5', '9', '13'], '2': ['0', '1', '3', '6', '10', '14'], '3': ['0', '1', '2', '7', '11', '15'], '4': ['0', '5', '6', '7', '8', '12'], '8': ['0', '4', '9', '10', '11', '12'], '12': ['0', '4', '8', '13', '14', '15'], '5': ['1', '4', '6', '7', '9', '13'], '9': ['1', '5', '8', '10', '11', '13'], '13': ['1', '5', '9', '12', '14', '15'], '6': ['2', '4', '5', '7', '10', '14'], '10': ['2', '6', '8', '9', '11', '14'], '14': ['2', '6', '10', '12', '13', '15'], '7': ['3', '4', '5', '6', '11', '15'], '11': ['3', '7', '8', '9', '10', '15'], '15': ['3', '7', '11', '12', '13', '14']})\n"
     ]
    }
   ],
   "source": [
    "# Quadrados já preenchidos\n",
    "condicoes = {'6': 3, '9': 2}\n",
    "p = quadrado_latino(4, condicoes)\n",
    "\n",
    "print('Variáveis', p.variables)\n",
    "print('Domínios Iniciais', p.domains)\n",
    "print('Vizinhos', p.neighbors)\n"
   ]
  },
  {
   "cell_type": "markdown",
   "metadata": {},
   "source": [
    "Resolva o problema com o backtracking sem inferencia, com inferencia, e com uma heurística."
   ]
  },
  {
   "cell_type": "code",
   "execution_count": 90,
   "metadata": {},
   "outputs": [
    {
     "name": "stdout",
     "output_type": "stream",
     "text": [
      "Procura com backtracking sem inferência\n",
      "1 2 1 2 \n",
      "4 3 2 1 \n",
      "3 4 2 1 \n",
      "4 3 3 4 \n",
      "----------------------------------------------------------------------------------------------------\n",
      "Procura com backtracking com inferência\n",
      "1 2 1 2 \n",
      "4 3 2 1 \n",
      "3 4 2 1 \n",
      "4 3 3 4 \n",
      "----------------------------------------------------------------------------------------------------\n",
      "Procura com backtracking com uma heurísitca\n",
      "1 2 1 2 \n",
      "4 3 2 1 \n",
      "3 4 2 1 \n",
      "4 3 3 4 \n"
     ]
    }
   ],
   "source": [
    "# código\n",
    "p = quadrado_latino(4)\n",
    "print('Procura com backtracking sem inferência')\n",
    "r1 = backtracking_search(p)\n",
    "visualize(r1)\n",
    "print('-'*100)\n",
    "\n",
    "p = quadrado_latino(4)\n",
    "print('Procura com backtracking com inferência')\n",
    "r2 = AC3(p)\n",
    "r2 = backtracking_search(r2)  # , verbose=True)\n",
    "visualize(r2)\n",
    "print('-'*100)\n",
    "\n",
    "p = quadrado_latino(4)\n",
    "print('Procura com backtracking com uma heurísitca')\n",
    "r3 = backtracking_search(p, inference=forward_checking)\n",
    "visualize(r3)\n"
   ]
  },
  {
   "cell_type": "markdown",
   "metadata": {},
   "source": [
    "## Visualização do problema"
   ]
  },
  {
   "cell_type": "code",
   "execution_count": 268,
   "metadata": {},
   "outputs": [
    {
     "name": "stdout",
     "output_type": "stream",
     "text": [
      "{'0': 3, '1': 3, '2': 2, '3': 2, '4': 2, '5': 2, '6': 2, '7': 2, '8': 2}\n",
      "   0   1 > 2\n",
      "              \n",
      " > 3 > 4 > 5\n",
      "              \n",
      " > 6 > 7 > 8\n",
      "              \n"
     ]
    }
   ],
   "source": [
    "# Implemente uma função que permita visualizar o puzzle Futoshiki, antes e depois de resolvido. Compare com a solução obtida pelo seu algoritmo.\n",
    "# No caso de não implementar esta função, inclua um screenshot do problema e da sua solução.\n",
    "# Implemente uma função que permita visualizar o quadrado latino, antes e depois de resolvido.\n",
    "from typing import Dict\n",
    "from math import sqrt\n",
    "\n",
    "# Sinais:\n",
    "# Dict em que chave é a variável onde se vai aplicar e o valor é um dos seguintes:\n",
    "# 0: maior que o da esquerda\n",
    "# 1: maior que o de cima\n",
    "# 2: maior que o da direita\n",
    "# 3: maior que o de baixo\n",
    "sinais_char = ['<', '^', '>', 'v']\n",
    "def visualize_futoshiki(vs: Dict[str, int], sinais: Dict[str, int]):\n",
    "    n = int(sqrt(len(vs)))\n",
    "    to_list = sorted(vs.items(), key=lambda x: x[0])\n",
    "\n",
    "    for i, (var, v) in enumerate(to_list):\n",
    "        sinal = sinais.get(var, None)\n",
    "        \n",
    "        # sinal par -> é um sinal horizontal\n",
    "        if sinal is not None and sinal % 2 == 0:\n",
    "            print(f' {sinais_char[sinal]} ', end='')\n",
    "        else:\n",
    "            print('   ', end='')\n",
    "\n",
    "        print(var, end='')\n",
    "\n",
    "        # New line\n",
    "        if (i+1) % n == 0:\n",
    "            print('\\n  ', end='')\n",
    "            \n",
    "            for _ in range(n):\n",
    "                if sinal is not None and sinal % 2 != 0:\n",
    "                    print(f' {sinais_char[sinal]} ', end='')\n",
    "                else:\n",
    "                    print('   ', end='')\n",
    "                print(' ', end='')\n",
    "                \n",
    "            print('')\n",
    "\n",
    "# código \n",
    "n = 3\n",
    "sinais={str(x): 2 for x in range(n*n)}\n",
    "\n",
    "print(sinais)\n",
    "p = futoshiki(n)\n",
    "r = backtracking_search(p)\n",
    "visualize_futoshiki(r, sinais=sinais)\n"
   ]
  },
  {
   "cell_type": "markdown",
   "id": "14a095c8",
   "metadata": {},
   "source": [
    "## Criação do problema Futoshiki *5x5*\n",
    "\n",
    "Mostrem que o código está a funcionar, construindo um problema de Futoshiki *5x5*, imprimindo as variáveis, domínios iniciais, e vizinhos. Adicione os comentários necessários. Utilize o [link](https://www.futoshiki.org/) para gerar puzzles e validar a implementação."
   ]
  },
  {
   "cell_type": "code",
   "execution_count": 134,
   "id": "06577d27",
   "metadata": {},
   "outputs": [],
   "source": [
    "# código de aplicação dos algoritmos\n",
    "from csp import *\n",
    "from typing import Dict\n",
    "\n",
    "def maior(x: int, y: int) -> bool:\n",
    "    return x > y\n",
    "\n",
    "def menor(x: int, y: int) -> bool:\n",
    "    return x < y\n",
    "        \n",
    "def futoshiki(n: int = 3, quadrados_preenchidos: Dict[str, int] = None) -> CSP:\n",
    "    \"\"\"\n",
    "    Pode receber parametros ou não.\n",
    "    Deve devolver um CSP, à semelhança dos guiões das aulas PL.\n",
    "    Comente o código.\n",
    "    \"\"\"\n",
    "    # 0 1 2 .\n",
    "    # 3 4 5 .\n",
    "    # 6 7 8 .\n",
    "    # . . .\n",
    "    # As variáveis são os índices do quadrado latino.\n",
    "    variaveis = [str(x) for x in range(n*n)]  # [0,...,8] Indices\n",
    "\n",
    "    # O domínio são os valores [1, ..., n] para cada variável.\n",
    "    dom = [x for x in range(1, n+1)]  # [1,...,9] Valores\n",
    "\n",
    "    dominios = {}\n",
    "    for v in variaveis:\n",
    "        dominios[v] = dom  # A colocar na lista os valores\n",
    "        # TODO copiar lista?\n",
    "    if quadrados_preenchidos:\n",
    "        for (k, v) in quadrados_preenchidos.items():\n",
    "            dominios[k] = [v]  # {Indice: val,Indice: val}\n",
    "            # ex: {4: [3]} -> dominios[4] = [3]\n",
    "\n",
    "    # Os vizinhos são os índices da mesma linha e da mesma coluna que a variável\n",
    "    vizinhos = {v: [] for v in variaveis}  # {1: [], ..., 9: []}\n",
    "\n",
    "    # Para cada coluna\n",
    "    for col in range(n):\n",
    "        # Para cada linha\n",
    "        for lin in range(col, n*n, n):\n",
    "            # Linhas\n",
    "            vizinhos[str(lin)].extend([lin+x for x in range(1, n-col)])\n",
    "            # Colunas\n",
    "            vizinhos[str(lin)].extend([x for x in range(lin+n, n*n, n)])\n",
    "\n",
    "    # Traduzir de dicionário para o formato do parse_neighbors\n",
    "    vizinhos = '; '.join(\n",
    "        map(lambda k: f'{k}: {\" \".join(map(str, vizinhos[k]))}', vizinhos))\n",
    "    vizinhos = parse_neighbors(vizinhos)\n",
    "\n",
    "    def restricoes(X, a, Y, b):\n",
    "        return diff_lin_col(n, X, a, Y, b)\n",
    "    return CSP(variaveis, dominios, vizinhos, restricoes)\n"
   ]
  },
  {
   "cell_type": "markdown",
   "metadata": {},
   "source": [
    "Resolva o problema com o backtracking sem inferencia, com inferencia, e com uma heurística. Até que dimensão consegue resolver o problema em menos de 1 minuto?"
   ]
  },
  {
   "cell_type": "code",
   "execution_count": 262,
   "metadata": {},
   "outputs": [
    {
     "name": "stdout",
     "output_type": "stream",
     "text": [
      "{'0': 3, '1': 3, '2': 2, '3': 3, '4': 0, '5': 1, '6': 2, '7': 3, '8': 0}\n",
      "   0   1 > 2\n",
      "              \n",
      "   3 < 4   5\n",
      "   ^   ^   ^  \n",
      " > 6   7 < 8\n",
      "              \n"
     ]
    }
   ],
   "source": [
    "# código \n",
    "n = 3\n",
    "sinais={str(x): x%4 for x in range(n*n)}\n",
    "sinais['0'] = 3\n",
    "sinais['1'] = 3\n",
    "\n",
    "print(sinais)\n",
    "p = futoshiki(n)\n",
    "r = backtracking_search(p)\n",
    "visualize_futoshiki(r, sinais=sinais)"
   ]
  }
 ],
 "metadata": {
  "interpreter": {
   "hash": "e7370f93d1d0cde622a1f8e1c04877d8463912d04d973331ad4851f04de6915a"
  },
  "kernelspec": {
   "display_name": "Python 3.10.4 64-bit",
   "language": "python",
   "name": "python3"
  },
  "language_info": {
   "codemirror_mode": {
    "name": "ipython",
    "version": 3
   },
   "file_extension": ".py",
   "mimetype": "text/x-python",
   "name": "python",
   "nbconvert_exporter": "python",
   "pygments_lexer": "ipython3",
   "version": "3.10.4"
  },
  "orig_nbformat": 4
 },
 "nbformat": 4,
 "nbformat_minor": 2
}
