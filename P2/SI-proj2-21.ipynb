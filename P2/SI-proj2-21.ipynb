{
 "cells": [
  {
   "cell_type": "markdown",
   "id": "bf9c87b1",
   "metadata": {},
   "source": [
    "# Sistemas Inteligentes 2021/2022\n",
    "\n",
    "## Mini-projeto 2: Quadrados Latinos\n"
   ]
  },
  {
   "cell_type": "markdown",
   "id": "d7b8efca",
   "metadata": {},
   "source": [
    "## Grupo: 21\n",
    "\n",
    "### Elementos do Grupo\n",
    "\n",
    "Número: 56926    Nome: Lucas Pinto   \n",
    "Número: 56895    Nome: Matilde Silva    \n",
    "Número: 56941    Nome: Bruno Gonzalez     \n",
    "\n",
    "(Nota: Neste relatório pode adicionar as células de texto e código que achar necessárias.)"
   ]
  },
  {
   "cell_type": "markdown",
   "id": "df10acb0",
   "metadata": {},
   "source": [
    "## Representação de variáveis, domínios, vizinhos e restrições\n",
    "\n",
    "Descreva aqui, textualmente, como decidiu representar as variáveis, domínios, vizinhos e restrições em Python;"
   ]
  },
  {
   "cell_type": "markdown",
   "id": "4ab69211",
   "metadata": {},
   "source": [
    "## Formulação do problema"
   ]
  },
  {
   "cell_type": "code",
   "execution_count": 61,
   "id": "c5327f4f",
   "metadata": {},
   "outputs": [
    {
     "data": {
      "text/plain": [
       "<csp.CSP at 0x7fbbf0735630>"
      ]
     },
     "execution_count": 61,
     "metadata": {},
     "output_type": "execute_result"
    }
   ],
   "source": [
    "from csp import *\n",
    "\n",
    "\n",
    "def quadrado_latino(n: int = 3) -> CSP:\n",
    "    \"\"\"\n",
    "    Pode receber parametros ou não.\n",
    "    Deve devolver um CSP, à semelhança dos guiões das aulas PL.\n",
    "    Comente o código.\n",
    "    \"\"\"\n",
    "    # 0 1 2 .\n",
    "    # 3 4 5 .\n",
    "    # 6 7 8 .\n",
    "    # . . .\n",
    "    # As variáveis são os índices do quadrado latino.\n",
    "    variaveis = [x for x in range(n*n)]\n",
    "\n",
    "    # O domínio são os valores [1, ..., n] para cada variável.\n",
    "    dom = [x for x in range(1, n+1)]\n",
    "    dominios = {}\n",
    "    for v in variaveis:\n",
    "        dominios[v] = dom  # TODO copiar lista?\n",
    "\n",
    "    # Os vizinhos são os índices da mesma linha e da mesma coluna\n",
    "    vizinhos = {v: [] for v in variaveis}\n",
    "    # TODO funciona 3x3, mas ver em 4x4, ...\n",
    "    # Para cada coluna\n",
    "    for col in range(n):\n",
    "        # Para cada linha\n",
    "        for lin in range(col, n*n, n):\n",
    "            # Linhas\n",
    "            vizinhos[lin].extend([lin+x for x in range(1, n-col)])\n",
    "            # Colunas\n",
    "            vizinhos[lin].extend([x for x in range(lin+n, n*n, n)])\n",
    "\n",
    "    # Traduzir de dicionário para o formato do parse_neighbors\n",
    "    vizinhos = '; '.join(map(lambda k: f'{k}: {\" \".join(map(str, vizinhos[k]))}', vizinhos))\n",
    "    vizinhos = parse_neighbors(vizinhos)\n",
    "\n",
    "    # Verificar em determina linha e coluna se elemento\n",
    "    # lá está se sim, return false.\n",
    "    # Não está completo, é só uma ideia de resol.\n",
    "    def restricoes(linha, coluna, elemento):\n",
    "        for i in linha:\n",
    "            if i == elemento:\n",
    "                return False\n",
    "            else:\n",
    "                pass\n",
    "        return True\n",
    "\n",
    "    return CSP(variaveis, dominios, vizinhos, restricoes)\n",
    "\n",
    "\n",
    "# 0 1 2 .\n",
    "# 3 4 5 .\n",
    "# 6 7 8 .\n",
    "# . . .\n",
    "quadrado_latino(3)\n"
   ]
  },
  {
   "cell_type": "markdown",
   "metadata": {},
   "source": []
  },
  {
   "cell_type": "markdown",
   "id": "f46b1688",
   "metadata": {},
   "source": [
    "## Criação do problema do quadrado latino simples\n",
    "\n",
    "Mostrem que o código está a funcionar, construindo um problema de quadrado latino *4x4*, imprimindo as variáveis, domínios iniciais, e vizinhos. Adicione os comentários necessários. Mostre como podemos criar um puzzle com quadrados já preenchidos, e qual o impacto que isso tem nas variáveis, domínios iniciais, e vizinhos."
   ]
  },
  {
   "cell_type": "code",
   "execution_count": null,
   "id": "0b95b771",
   "metadata": {},
   "outputs": [],
   "source": [
    "# código"
   ]
  },
  {
   "cell_type": "markdown",
   "metadata": {},
   "source": [
    "Resolva o problema com o backtracking sem inferencia, com inferencia, e com uma heurística."
   ]
  },
  {
   "cell_type": "code",
   "execution_count": null,
   "metadata": {},
   "outputs": [],
   "source": [
    "# código"
   ]
  },
  {
   "cell_type": "markdown",
   "metadata": {},
   "source": [
    "## Visualização do problema"
   ]
  },
  {
   "cell_type": "code",
   "execution_count": null,
   "metadata": {},
   "outputs": [],
   "source": [
    "# Implemente uma função que permita visualizar o quadrado latino, antes e depois de resolvido."
   ]
  },
  {
   "cell_type": "markdown",
   "id": "14a095c8",
   "metadata": {},
   "source": [
    "## Criação do problema Futoshiki *5x5*\n",
    "\n",
    "Mostrem que o código está a funcionar, construindo um problema de Futoshiki *5x5*, imprimindo as variáveis, domínios iniciais, e vizinhos. Adicione os comentários necessários. Utilize o [link](https://www.futoshiki.org/) para gerar puzzles e validar a implementação."
   ]
  },
  {
   "cell_type": "code",
   "execution_count": null,
   "id": "06577d27",
   "metadata": {},
   "outputs": [],
   "source": [
    "# código de aplicação dos algoritmos"
   ]
  },
  {
   "cell_type": "markdown",
   "metadata": {},
   "source": [
    "Resolva o problema com o backtracking sem inferencia, com inferencia, e com uma heurística. Até que dimensão consegue resolver o problema em menos de 1 minuto?"
   ]
  },
  {
   "cell_type": "code",
   "execution_count": null,
   "metadata": {},
   "outputs": [],
   "source": [
    "# código "
   ]
  },
  {
   "cell_type": "markdown",
   "metadata": {},
   "source": [
    "## Visualização do problema"
   ]
  },
  {
   "cell_type": "code",
   "execution_count": null,
   "metadata": {},
   "outputs": [],
   "source": [
    "# Implemente uma função que permita visualizar o puzzle Futoshiki, antes e depois de resolvido. Compare com a solução obtida pelo seu algoritmo. \n",
    "# No caso de não implementar esta função, inclua um screenshot do problema e da sua solução."
   ]
  }
 ],
 "metadata": {
  "interpreter": {
   "hash": "e7370f93d1d0cde622a1f8e1c04877d8463912d04d973331ad4851f04de6915a"
  },
  "kernelspec": {
   "display_name": "Python 3.10.4 64-bit",
   "language": "python",
   "name": "python3"
  },
  "language_info": {
   "codemirror_mode": {
    "name": "ipython",
    "version": 3
   },
   "file_extension": ".py",
   "mimetype": "text/x-python",
   "name": "python",
   "nbconvert_exporter": "python",
   "pygments_lexer": "ipython3",
   "version": "3.10.4"
  },
  "orig_nbformat": 4
 },
 "nbformat": 4,
 "nbformat_minor": 2
}
